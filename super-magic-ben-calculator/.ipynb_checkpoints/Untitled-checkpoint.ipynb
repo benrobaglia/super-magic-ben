{
 "cells": [
  {
   "cell_type": "code",
   "execution_count": 1,
   "id": "1aa41137",
   "metadata": {},
   "outputs": [],
   "source": [
    "from speaker_id import SpeakerId, AudioConverter\n",
    "import sys\n",
    "from IPython.display import Audio\n"
   ]
  },
  {
   "cell_type": "code",
   "execution_count": 2,
   "id": "7022d1f0",
   "metadata": {},
   "outputs": [],
   "source": [
    "audio_converter = AudioConverter()"
   ]
  },
  {
   "cell_type": "code",
   "execution_count": 3,
   "id": "177b04aa",
   "metadata": {},
   "outputs": [],
   "source": [
    "audio_hex = audio_converter.wav_to_hex('data_test/test2_speaker2.wav')"
   ]
  },
  {
   "cell_type": "code",
   "execution_count": 4,
   "id": "7d5522dd",
   "metadata": {},
   "outputs": [
    {
     "data": {
      "text/plain": [
       "737.9970703125"
      ]
     },
     "execution_count": 4,
     "metadata": {},
     "output_type": "execute_result"
    }
   ],
   "source": [
    "sys.getsizeof(audio_hex) / 1024"
   ]
  },
  {
   "cell_type": "code",
   "execution_count": 5,
   "id": "33f81639",
   "metadata": {},
   "outputs": [],
   "source": [
    "audio_converter.hex_to_wav(audio_hex, 'test1.wav')"
   ]
  },
  {
   "cell_type": "code",
   "execution_count": 6,
   "id": "c3bbecd7",
   "metadata": {},
   "outputs": [],
   "source": [
    "speaker_id = SpeakerId()"
   ]
  },
  {
   "cell_type": "code",
   "execution_count": 7,
   "id": "0c4faeb2",
   "metadata": {},
   "outputs": [
    {
     "name": "stderr",
     "output_type": "stream",
     "text": [
      "LOG (VoskAPI:ReadDataFiles():model.cc:213) Decoding params beam=10 max-active=3000 lattice-beam=2\n",
      "LOG (VoskAPI:ReadDataFiles():model.cc:216) Silence phones 1:2:3:4:5:6:7:8:9:10\n",
      "LOG (VoskAPI:RemoveOrphanNodes():nnet-nnet.cc:948) Removed 0 orphan nodes.\n",
      "LOG (VoskAPI:RemoveOrphanComponents():nnet-nnet.cc:847) Removing 0 orphan components.\n",
      "LOG (VoskAPI:ReadDataFiles():model.cc:248) Loading i-vector extractor from /Users/benoitrobaglia/.cache/vosk/vosk-model-small-en-us-0.15/ivector/final.ie\n",
      "LOG (VoskAPI:ComputeDerivedVars():ivector-extractor.cc:183) Computing derived variables for iVector extractor\n",
      "LOG (VoskAPI:ComputeDerivedVars():ivector-extractor.cc:204) Done.\n",
      "LOG (VoskAPI:ReadDataFiles():model.cc:282) Loading HCL and G from /Users/benoitrobaglia/.cache/vosk/vosk-model-small-en-us-0.15/graph/HCLr.fst /Users/benoitrobaglia/.cache/vosk/vosk-model-small-en-us-0.15/graph/Gr.fst\n",
      "LOG (VoskAPI:ReadDataFiles():model.cc:303) Loading winfo /Users/benoitrobaglia/.cache/vosk/vosk-model-small-en-us-0.15/graph/phones/word_boundary.int\n",
      "WARNING (VoskAPI:Check():nnet-nnet.cc:789) Node tdnn6.relu is never used to compute any output.\n",
      "WARNING (VoskAPI:Check():nnet-nnet.cc:789) Node tdnn6.batchnorm is never used to compute any output.\n",
      "WARNING (VoskAPI:Check():nnet-nnet.cc:789) Node output.affine is never used to compute any output.\n",
      "WARNING (VoskAPI:Check():nnet-nnet.cc:789) Node output.log-softmax is never used to compute any output.\n",
      "LOG (VoskAPI:RemoveOrphanNodes():nnet-nnet.cc:948) Removed 4 orphan nodes.\n",
      "LOG (VoskAPI:RemoveOrphanComponents():nnet-nnet.cc:847) Removing 4 orphan components.\n",
      "LOG (VoskAPI:Collapse():nnet-utils.cc:1488) Added 0 components, removed 4\n"
     ]
    },
    {
     "name": "stdout",
     "output_type": "stream",
     "text": [
      "Text: put the pop into a base and with two ounces of melted butter to tablespoon falls of lemon juice half a pound of just nuts boiled and graded and seasoning of salt and white pepper to taste\n",
      "Speaker voice footprint successfully created!\n"
     ]
    },
    {
     "name": "stderr",
     "output_type": "stream",
     "text": [
      "LOG (VoskAPI:~CachingOptimizingCompiler():nnet-optimize.cc:710) 0.0148 seconds taken in nnet3 compilation total (breakdown: 0.0135 compilation, 0.000637 optimization, 0 shortcut expansion, 0.000171 checking, 0 computing indexes, 0.000483 misc.) + 0 I/O.\n"
     ]
    }
   ],
   "source": [
    "speaker_id.create_speaker('test1.wav', 'speaker_1')"
   ]
  },
  {
   "cell_type": "code",
   "execution_count": 8,
   "id": "5f8310fd",
   "metadata": {},
   "outputs": [],
   "source": [
    "audio_hex2 = audio_converter.wav_to_hex('data_test/test3_speaker2.wav')"
   ]
  },
  {
   "cell_type": "code",
   "execution_count": 9,
   "id": "7271e656",
   "metadata": {},
   "outputs": [],
   "source": [
    "audio_converter.hex_to_wav(audio_hex2, 'test2.wav')"
   ]
  },
  {
   "cell_type": "code",
   "execution_count": 10,
   "id": "cec915eb",
   "metadata": {},
   "outputs": [
    {
     "name": "stderr",
     "output_type": "stream",
     "text": [
      "LOG (VoskAPI:ReadDataFiles():model.cc:213) Decoding params beam=10 max-active=3000 lattice-beam=2\n",
      "LOG (VoskAPI:ReadDataFiles():model.cc:216) Silence phones 1:2:3:4:5:6:7:8:9:10\n",
      "LOG (VoskAPI:RemoveOrphanNodes():nnet-nnet.cc:948) Removed 0 orphan nodes.\n",
      "LOG (VoskAPI:RemoveOrphanComponents():nnet-nnet.cc:847) Removing 0 orphan components.\n",
      "LOG (VoskAPI:ReadDataFiles():model.cc:248) Loading i-vector extractor from /Users/benoitrobaglia/.cache/vosk/vosk-model-small-en-us-0.15/ivector/final.ie\n",
      "LOG (VoskAPI:ComputeDerivedVars():ivector-extractor.cc:183) Computing derived variables for iVector extractor\n",
      "LOG (VoskAPI:ComputeDerivedVars():ivector-extractor.cc:204) Done.\n",
      "LOG (VoskAPI:ReadDataFiles():model.cc:282) Loading HCL and G from /Users/benoitrobaglia/.cache/vosk/vosk-model-small-en-us-0.15/graph/HCLr.fst /Users/benoitrobaglia/.cache/vosk/vosk-model-small-en-us-0.15/graph/Gr.fst\n",
      "LOG (VoskAPI:ReadDataFiles():model.cc:303) Loading winfo /Users/benoitrobaglia/.cache/vosk/vosk-model-small-en-us-0.15/graph/phones/word_boundary.int\n",
      "WARNING (VoskAPI:Check():nnet-nnet.cc:789) Node tdnn6.relu is never used to compute any output.\n",
      "WARNING (VoskAPI:Check():nnet-nnet.cc:789) Node tdnn6.batchnorm is never used to compute any output.\n",
      "WARNING (VoskAPI:Check():nnet-nnet.cc:789) Node output.affine is never used to compute any output.\n",
      "WARNING (VoskAPI:Check():nnet-nnet.cc:789) Node output.log-softmax is never used to compute any output.\n",
      "LOG (VoskAPI:RemoveOrphanNodes():nnet-nnet.cc:948) Removed 4 orphan nodes.\n",
      "LOG (VoskAPI:RemoveOrphanComponents():nnet-nnet.cc:847) Removing 4 orphan components.\n",
      "LOG (VoskAPI:Collapse():nnet-utils.cc:1488) Added 0 components, removed 4\n"
     ]
    },
    {
     "name": "stdout",
     "output_type": "stream",
     "text": [
      "Text: tomato baskets tomato baskets are charming assessor is for holding vegetable salad chicken shrimps cold beans asparagus tips shredded celery cucumbers cut in cubes and minced peppers\n"
     ]
    },
    {
     "name": "stderr",
     "output_type": "stream",
     "text": [
      "LOG (VoskAPI:~CachingOptimizingCompiler():nnet-optimize.cc:710) 0.0151 seconds taken in nnet3 compilation total (breakdown: 0.0138 compilation, 0.000648 optimization, 0 shortcut expansion, 0.000164 checking, 2.86e-06 computing indexes, 0.000493 misc.) + 0 I/O.\n"
     ]
    },
    {
     "data": {
      "text/plain": [
       "[0.23808512603049847, 1]"
      ]
     },
     "execution_count": 10,
     "metadata": {},
     "output_type": "execute_result"
    }
   ],
   "source": [
    "speaker_id.verify_speaker('test2.wav', 'speaker_1')"
   ]
  },
  {
   "cell_type": "code",
   "execution_count": 15,
   "id": "fd4160e5",
   "metadata": {},
   "outputs": [],
   "source": [
    "audio_hex2 = audio_converter.wav_to_hex('data_test/test2_speaker3.wav')\n",
    "audio_converter.hex_to_wav(audio_hex2, 'test3.wav')"
   ]
  },
  {
   "cell_type": "code",
   "execution_count": 16,
   "id": "a5e1cae5",
   "metadata": {},
   "outputs": [
    {
     "name": "stderr",
     "output_type": "stream",
     "text": [
      "LOG (VoskAPI:ReadDataFiles():model.cc:213) Decoding params beam=10 max-active=3000 lattice-beam=2\n",
      "LOG (VoskAPI:ReadDataFiles():model.cc:216) Silence phones 1:2:3:4:5:6:7:8:9:10\n",
      "LOG (VoskAPI:RemoveOrphanNodes():nnet-nnet.cc:948) Removed 0 orphan nodes.\n",
      "LOG (VoskAPI:RemoveOrphanComponents():nnet-nnet.cc:847) Removing 0 orphan components.\n",
      "LOG (VoskAPI:ReadDataFiles():model.cc:248) Loading i-vector extractor from /Users/benoitrobaglia/.cache/vosk/vosk-model-small-en-us-0.15/ivector/final.ie\n",
      "LOG (VoskAPI:ComputeDerivedVars():ivector-extractor.cc:183) Computing derived variables for iVector extractor\n",
      "LOG (VoskAPI:ComputeDerivedVars():ivector-extractor.cc:204) Done.\n",
      "LOG (VoskAPI:ReadDataFiles():model.cc:282) Loading HCL and G from /Users/benoitrobaglia/.cache/vosk/vosk-model-small-en-us-0.15/graph/HCLr.fst /Users/benoitrobaglia/.cache/vosk/vosk-model-small-en-us-0.15/graph/Gr.fst\n",
      "LOG (VoskAPI:ReadDataFiles():model.cc:303) Loading winfo /Users/benoitrobaglia/.cache/vosk/vosk-model-small-en-us-0.15/graph/phones/word_boundary.int\n",
      "WARNING (VoskAPI:Check():nnet-nnet.cc:789) Node tdnn6.relu is never used to compute any output.\n",
      "WARNING (VoskAPI:Check():nnet-nnet.cc:789) Node tdnn6.batchnorm is never used to compute any output.\n",
      "WARNING (VoskAPI:Check():nnet-nnet.cc:789) Node output.affine is never used to compute any output.\n",
      "WARNING (VoskAPI:Check():nnet-nnet.cc:789) Node output.log-softmax is never used to compute any output.\n",
      "LOG (VoskAPI:RemoveOrphanNodes():nnet-nnet.cc:948) Removed 4 orphan nodes.\n",
      "LOG (VoskAPI:RemoveOrphanComponents():nnet-nnet.cc:847) Removing 4 orphan components.\n",
      "LOG (VoskAPI:Collapse():nnet-utils.cc:1488) Added 0 components, removed 4\n"
     ]
    },
    {
     "name": "stdout",
     "output_type": "stream",
     "text": [
      "Text: put the sugar with one quarter pint of water in a saucepan over the fire remove the scum as it rises and add the lemon peel and ginger with the outside scraped off when the syrup is tolerably thick take it off the fire and when called wipe the cucumbers dry and put them in\n"
     ]
    },
    {
     "name": "stderr",
     "output_type": "stream",
     "text": [
      "LOG (VoskAPI:~CachingOptimizingCompiler():nnet-optimize.cc:710) 0.0153 seconds taken in nnet3 compilation total (breakdown: 0.014 compilation, 0.000642 optimization, 0 shortcut expansion, 0.000173 checking, 3.1e-06 computing indexes, 0.000489 misc.) + 0 I/O.\n"
     ]
    },
    {
     "data": {
      "text/plain": [
       "[0.815867100804548, 0]"
      ]
     },
     "execution_count": 16,
     "metadata": {},
     "output_type": "execute_result"
    }
   ],
   "source": [
    "speaker_id.verify_speaker('test3.wav', 'speaker_1')"
   ]
  },
  {
   "cell_type": "code",
   "execution_count": null,
   "id": "c6df7ff7",
   "metadata": {},
   "outputs": [],
   "source": []
  }
 ],
 "metadata": {
  "kernelspec": {
   "display_name": "Python 3 (ipykernel)",
   "language": "python",
   "name": "python3"
  },
  "language_info": {
   "codemirror_mode": {
    "name": "ipython",
    "version": 3
   },
   "file_extension": ".py",
   "mimetype": "text/x-python",
   "name": "python",
   "nbconvert_exporter": "python",
   "pygments_lexer": "ipython3",
   "version": "3.9.13"
  }
 },
 "nbformat": 4,
 "nbformat_minor": 5
}
