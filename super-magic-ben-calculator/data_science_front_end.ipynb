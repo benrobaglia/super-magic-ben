{
 "cells": [
  {
   "cell_type": "code",
   "execution_count": 2,
   "id": "0354ee08",
   "metadata": {},
   "outputs": [],
   "source": [
    "import json\n",
    "import sys\n",
    "import binascii\n",
    "import base64\n",
    "from pydub import AudioSegment\n",
    "import soundfile as sf"
   ]
  },
  {
   "cell_type": "code",
   "execution_count": 54,
   "id": "9832d4e1",
   "metadata": {},
   "outputs": [],
   "source": [
    "def convert_m4a_to_flac(m4a_path, flac_path):\n",
    "    # Load m4a file\n",
    "    audio = AudioSegment.from_file(m4a_path, format=\"m4a\")\n",
    "\n",
    "    # Convert stereo to mono\n",
    "    audio = audio.set_channels(1)\n",
    "\n",
    "    # Convert to wav\n",
    "    audio.export(\"temp.wav\", format=\"wav\")\n",
    "\n",
    "    # Load wav file\n",
    "    data, samplerate = sf.read('temp.wav')\n",
    "\n",
    "    # Save as FLAC\n",
    "    sf.write(flac_path, data, samplerate, format='flac')\n",
    "\n",
    "# Example usage\n",
    "convert_m4a_to_flac(\"benoit1.m4a\", \"benoit1.flac\")\n"
   ]
  },
  {
   "cell_type": "code",
   "execution_count": 55,
   "id": "d7c90060",
   "metadata": {},
   "outputs": [],
   "source": [
    "convert_m4a_to_flac(\"benoit2.m4a\", \"benoit2.flac\")\n",
    "convert_m4a_to_flac(\"caitlin.m4a\", \"caitlin.flac\")\n"
   ]
  },
  {
   "cell_type": "code",
   "execution_count": 28,
   "id": "8da7d529",
   "metadata": {},
   "outputs": [],
   "source": [
    "from web3 import Web3\n",
    "\n",
    "w3 = Web3(Web3.HTTPProvider('http://127.0.0.1:8545', request_kwargs={'timeout': 6000}))\n"
   ]
  },
  {
   "cell_type": "code",
   "execution_count": 30,
   "id": "f96c688c",
   "metadata": {},
   "outputs": [],
   "source": [
    "with open('/Users/benoitrobaglia/Documents/eth_paris/rollups-examples/deployments/localhost/InputFacet.json', 'rt') as fin:\n",
    "    input_facet = json.load(fin)"
   ]
  },
  {
   "cell_type": "code",
   "execution_count": 14,
   "id": "9710c6e2",
   "metadata": {},
   "outputs": [],
   "source": [
    "#acct1 = w3.eth.accounts[0]\n"
   ]
  },
  {
   "cell_type": "code",
   "execution_count": 31,
   "id": "ae28058d",
   "metadata": {},
   "outputs": [],
   "source": [
    "acct2 = w3.eth.account.from_key(\"0xac0974bec39a17e36ba4a6b4d238ff944bacb478cbed5efcae784d7bf4f2ff80\")"
   ]
  },
  {
   "cell_type": "code",
   "execution_count": 32,
   "id": "ffcad6f4",
   "metadata": {},
   "outputs": [],
   "source": [
    "some_address = \"0xF8C694fd58360De278d5fF2276B7130Bfdc0192A\"\n"
   ]
  },
  {
   "cell_type": "code",
   "execution_count": 33,
   "id": "fde43ae1",
   "metadata": {},
   "outputs": [],
   "source": [
    "cartesi_input = w3.eth.contract(address=some_address, abi=input_facet['abi'])\n"
   ]
  },
  {
   "cell_type": "code",
   "execution_count": 35,
   "id": "27f09e60",
   "metadata": {},
   "outputs": [],
   "source": [
    "def load_and_convert_flac(flac_path, function=0):\n",
    "    # Open file and read as bytes\n",
    "    with open(flac_path, 'rb') as wf:\n",
    "        wfr = wf.read()\n",
    "\n",
    "    # Base64 encode the bytes\n",
    "    audio_b64bytes = base64.b64encode(wfr)\n",
    "    # Decode it to string for putting into JSON\n",
    "    audio_b64str = audio_b64bytes.decode()\n",
    "\n",
    "    # Create JSON string\n",
    "    json_string = json.dumps({\"function\": function, \"audio_bytes\": audio_b64str})\n",
    "    # Convert the string to bytes\n",
    "    json_bytes = json_string.encode()\n",
    "    # Convert to hex\n",
    "    return Web3.toHex(json_bytes)\n"
   ]
  },
  {
   "cell_type": "code",
   "execution_count": 56,
   "id": "f33c96df",
   "metadata": {},
   "outputs": [],
   "source": [
    "ben1 = load_and_convert_flac('benoit1.flac', 0)\n",
    "ben2 = load_and_convert_flac('benoit2.flac', 1)\n",
    "cait = load_and_convert_flac('caitlin.flac', 1)"
   ]
  },
  {
   "cell_type": "code",
   "execution_count": 57,
   "id": "0da0fbad",
   "metadata": {},
   "outputs": [
    {
     "name": "stderr",
     "output_type": "stream",
     "text": [
      "/Users/benoitrobaglia/opt/anaconda3/lib/python3.9/site-packages/web3/eth.py:656: UserWarning: There was an issue with the method eth_maxPriorityFeePerGas. Calculating using eth_feeHistory.\n",
      "  warnings.warn(\n"
     ]
    },
    {
     "name": "stdout",
     "output_type": "stream",
     "text": [
      "CPU times: user 126 ms, sys: 50.4 ms, total: 177 ms\n",
      "Wall time: 7min 16s\n"
     ]
    }
   ],
   "source": [
    "%%time\n",
    "input_tx = cartesi_input.functions.addInput(ben2).build_transaction({\n",
    "    \"from\": acct2.address,\n",
    "    \"nonce\": w3.eth.get_transaction_count(acct2.address),\n",
    "})"
   ]
  },
  {
   "cell_type": "code",
   "execution_count": 58,
   "id": "499f92d2",
   "metadata": {},
   "outputs": [],
   "source": [
    "signed_tx = w3.eth.account.sign_transaction(input_tx, private_key=acct2.key)"
   ]
  },
  {
   "cell_type": "code",
   "execution_count": 59,
   "id": "3b4d6cab",
   "metadata": {},
   "outputs": [
    {
     "data": {
      "text/plain": [
       "HexBytes('0xdc2d813269ca133a8974ee570d7db4c26e0818e01665e7152f7c1c192e0db16d')"
      ]
     },
     "execution_count": 59,
     "metadata": {},
     "output_type": "execute_result"
    }
   ],
   "source": [
    "w3.eth.send_raw_transaction(signed_tx.rawTransaction)"
   ]
  },
  {
   "cell_type": "code",
   "execution_count": 60,
   "id": "ab783632",
   "metadata": {},
   "outputs": [
    {
     "ename": "TypeError",
     "evalue": "expected a bool, int, byte or bytearray in first arg, or keyword of hexstr or text",
     "output_type": "error",
     "traceback": [
      "\u001b[0;31m---------------------------------------------------------------------------\u001b[0m",
      "\u001b[0;31mTypeError\u001b[0m                                 Traceback (most recent call last)",
      "\u001b[0;32m/var/folders/dd/yfjv716n6r7_2w8w_lv151d80000gn/T/ipykernel_21249/2268129595.py\u001b[0m in \u001b[0;36m<module>\u001b[0;34m\u001b[0m\n\u001b[0;32m----> 1\u001b[0;31m \u001b[0mw3\u001b[0m\u001b[0;34m.\u001b[0m\u001b[0mtoBytes\u001b[0m\u001b[0;34m(\u001b[0m\u001b[0;34m'0x707574207468652070756c7020696e746f2061206261736520616e6420776974682074776f206f756e636573206f66206d656c7465642062757474657220746f207461626c6573706f6f6e2066616c6c73206f66206c656d6f6e206a756963652068616c66206120706f756e64206f66206a757374206e75747320626f696c656420616e642067726174656420616e6420736561736f6e696e67206f662073616c7420616e642077686974652070657070657220746f207461737465'\u001b[0m\u001b[0;34m)\u001b[0m\u001b[0;34m\u001b[0m\u001b[0;34m\u001b[0m\u001b[0m\n\u001b[0m",
      "\u001b[0;32m~/opt/anaconda3/lib/python3.9/site-packages/web3/_utils/decorators.py\u001b[0m in \u001b[0;36mwrapper\u001b[0;34m(*args, **kwargs)\u001b[0m\n\u001b[1;32m     49\u001b[0m                 \u001b[0;34mf\"{to_wrap.__name__} is deprecated in favor of {replace_message}\"\u001b[0m\u001b[0;34m,\u001b[0m\u001b[0;34m\u001b[0m\u001b[0;34m\u001b[0m\u001b[0m\n\u001b[1;32m     50\u001b[0m                 category=DeprecationWarning)\n\u001b[0;32m---> 51\u001b[0;31m             \u001b[0;32mreturn\u001b[0m \u001b[0mto_wrap\u001b[0m\u001b[0;34m(\u001b[0m\u001b[0;34m*\u001b[0m\u001b[0margs\u001b[0m\u001b[0;34m,\u001b[0m \u001b[0;34m**\u001b[0m\u001b[0mkwargs\u001b[0m\u001b[0;34m)\u001b[0m\u001b[0;34m\u001b[0m\u001b[0;34m\u001b[0m\u001b[0m\n\u001b[0m\u001b[1;32m     52\u001b[0m         \u001b[0;32mreturn\u001b[0m \u001b[0mcast\u001b[0m\u001b[0;34m(\u001b[0m\u001b[0mTFunc\u001b[0m\u001b[0;34m,\u001b[0m \u001b[0mwrapper\u001b[0m\u001b[0;34m)\u001b[0m\u001b[0;34m\u001b[0m\u001b[0;34m\u001b[0m\u001b[0m\n\u001b[1;32m     53\u001b[0m     \u001b[0;32mreturn\u001b[0m \u001b[0mdecorator\u001b[0m\u001b[0;34m\u001b[0m\u001b[0;34m\u001b[0m\u001b[0m\n",
      "\u001b[0;32m~/opt/anaconda3/lib/python3.9/site-packages/web3/main.py\u001b[0m in \u001b[0;36mtoBytes\u001b[0;34m(primitive, hexstr, text)\u001b[0m\n\u001b[1;32m    185\u001b[0m         \u001b[0mprimitive\u001b[0m\u001b[0;34m:\u001b[0m \u001b[0mPrimitives\u001b[0m \u001b[0;34m=\u001b[0m \u001b[0;32mNone\u001b[0m\u001b[0;34m,\u001b[0m \u001b[0mhexstr\u001b[0m\u001b[0;34m:\u001b[0m \u001b[0mHexStr\u001b[0m \u001b[0;34m=\u001b[0m \u001b[0;32mNone\u001b[0m\u001b[0;34m,\u001b[0m \u001b[0mtext\u001b[0m\u001b[0;34m:\u001b[0m \u001b[0mstr\u001b[0m \u001b[0;34m=\u001b[0m \u001b[0;32mNone\u001b[0m\u001b[0;34m\u001b[0m\u001b[0;34m\u001b[0m\u001b[0m\n\u001b[1;32m    186\u001b[0m     ) -> bytes:\n\u001b[0;32m--> 187\u001b[0;31m         \u001b[0;32mreturn\u001b[0m \u001b[0mto_bytes\u001b[0m\u001b[0;34m(\u001b[0m\u001b[0mprimitive\u001b[0m\u001b[0;34m,\u001b[0m \u001b[0mhexstr\u001b[0m\u001b[0;34m,\u001b[0m \u001b[0mtext\u001b[0m\u001b[0;34m)\u001b[0m\u001b[0;34m\u001b[0m\u001b[0;34m\u001b[0m\u001b[0m\n\u001b[0m\u001b[1;32m    188\u001b[0m \u001b[0;34m\u001b[0m\u001b[0m\n\u001b[1;32m    189\u001b[0m     \u001b[0;34m@\u001b[0m\u001b[0mstaticmethod\u001b[0m\u001b[0;34m\u001b[0m\u001b[0;34m\u001b[0m\u001b[0m\n",
      "\u001b[0;32m~/opt/anaconda3/lib/python3.9/site-packages/eth_utils/decorators.py\u001b[0m in \u001b[0;36mwrapper\u001b[0;34m(*args, **kwargs)\u001b[0m\n\u001b[1;32m     74\u001b[0m         \u001b[0;32mif\u001b[0m \u001b[0mlen\u001b[0m\u001b[0;34m(\u001b[0m\u001b[0margs\u001b[0m\u001b[0;34m)\u001b[0m \u001b[0;34m==\u001b[0m \u001b[0;36m0\u001b[0m \u001b[0;32mand\u001b[0m \u001b[0;34m\"primitive\"\u001b[0m \u001b[0;32mnot\u001b[0m \u001b[0;32min\u001b[0m \u001b[0mkwargs\u001b[0m\u001b[0;34m:\u001b[0m\u001b[0;34m\u001b[0m\u001b[0;34m\u001b[0m\u001b[0m\n\u001b[1;32m     75\u001b[0m             \u001b[0m_assert_hexstr_or_text_kwarg_is_text_type\u001b[0m\u001b[0;34m(\u001b[0m\u001b[0;34m**\u001b[0m\u001b[0mkwargs\u001b[0m\u001b[0;34m)\u001b[0m\u001b[0;34m\u001b[0m\u001b[0;34m\u001b[0m\u001b[0m\n\u001b[0;32m---> 76\u001b[0;31m         \u001b[0;32mreturn\u001b[0m \u001b[0mto_wrap\u001b[0m\u001b[0;34m(\u001b[0m\u001b[0;34m*\u001b[0m\u001b[0margs\u001b[0m\u001b[0;34m,\u001b[0m \u001b[0;34m**\u001b[0m\u001b[0mkwargs\u001b[0m\u001b[0;34m)\u001b[0m\u001b[0;34m\u001b[0m\u001b[0;34m\u001b[0m\u001b[0m\n\u001b[0m\u001b[1;32m     77\u001b[0m \u001b[0;34m\u001b[0m\u001b[0m\n\u001b[1;32m     78\u001b[0m     \u001b[0;32mreturn\u001b[0m \u001b[0mwrapper\u001b[0m\u001b[0;34m\u001b[0m\u001b[0;34m\u001b[0m\u001b[0m\n",
      "\u001b[0;32m~/opt/anaconda3/lib/python3.9/site-packages/eth_utils/conversions.py\u001b[0m in \u001b[0;36mto_bytes\u001b[0;34m(primitive, hexstr, text)\u001b[0m\n\u001b[1;32m    103\u001b[0m     \u001b[0;32melif\u001b[0m \u001b[0mtext\u001b[0m \u001b[0;32mis\u001b[0m \u001b[0;32mnot\u001b[0m \u001b[0;32mNone\u001b[0m\u001b[0;34m:\u001b[0m\u001b[0;34m\u001b[0m\u001b[0;34m\u001b[0m\u001b[0m\n\u001b[1;32m    104\u001b[0m         \u001b[0;32mreturn\u001b[0m \u001b[0mtext\u001b[0m\u001b[0;34m.\u001b[0m\u001b[0mencode\u001b[0m\u001b[0;34m(\u001b[0m\u001b[0;34m\"utf-8\"\u001b[0m\u001b[0;34m)\u001b[0m\u001b[0;34m\u001b[0m\u001b[0;34m\u001b[0m\u001b[0m\n\u001b[0;32m--> 105\u001b[0;31m     raise TypeError(\n\u001b[0m\u001b[1;32m    106\u001b[0m         \u001b[0;34m\"expected a bool, int, byte or bytearray in first arg, or keyword of hexstr or text\"\u001b[0m\u001b[0;34m\u001b[0m\u001b[0;34m\u001b[0m\u001b[0m\n\u001b[1;32m    107\u001b[0m     )\n",
      "\u001b[0;31mTypeError\u001b[0m: expected a bool, int, byte or bytearray in first arg, or keyword of hexstr or text"
     ]
    }
   ],
   "source": [
    "w3.toBytes('0x707574207468652070756c7020696e746f2061206261736520616e6420776974682074776f206f756e636573206f66206d656c7465642062757474657220746f207461626c6573706f6f6e2066616c6c73206f66206c656d6f6e206a756963652068616c66206120706f756e64206f66206a757374206e75747320626f696c656420616e642067726174656420616e6420736561736f6e696e67206f662073616c7420616e642077686974652070657070657220746f207461737465')"
   ]
  },
  {
   "cell_type": "code",
   "execution_count": null,
   "id": "738b2ade",
   "metadata": {},
   "outputs": [],
   "source": []
  },
  {
   "cell_type": "code",
   "execution_count": null,
   "id": "40f59ad5",
   "metadata": {},
   "outputs": [],
   "source": []
  },
  {
   "cell_type": "code",
   "execution_count": 16,
   "id": "2d5a0514",
   "metadata": {},
   "outputs": [],
   "source": []
  },
  {
   "cell_type": "code",
   "execution_count": 17,
   "id": "584521ee",
   "metadata": {},
   "outputs": [],
   "source": []
  },
  {
   "cell_type": "code",
   "execution_count": null,
   "id": "cf79d865",
   "metadata": {},
   "outputs": [],
   "source": []
  },
  {
   "cell_type": "code",
   "execution_count": 19,
   "id": "2a0150c6",
   "metadata": {},
   "outputs": [],
   "source": []
  },
  {
   "cell_type": "code",
   "execution_count": null,
   "id": "7ff586e7",
   "metadata": {},
   "outputs": [],
   "source": []
  }
 ],
 "metadata": {
  "kernelspec": {
   "display_name": "Python 3 (ipykernel)",
   "language": "python",
   "name": "python3"
  },
  "language_info": {
   "codemirror_mode": {
    "name": "ipython",
    "version": 3
   },
   "file_extension": ".py",
   "mimetype": "text/x-python",
   "name": "python",
   "nbconvert_exporter": "python",
   "pygments_lexer": "ipython3",
   "version": "3.9.13"
  }
 },
 "nbformat": 4,
 "nbformat_minor": 5
}
